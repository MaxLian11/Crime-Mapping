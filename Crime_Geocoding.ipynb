{
 "cells": [
  {
   "cell_type": "code",
   "execution_count": 1,
   "metadata": {},
   "outputs": [],
   "source": [
    "# import pandas package\n",
    "# if using Anaconda, must be installed using the following command \"conda install pandas\"\n",
    "import pandas as pd"
   ]
  },
  {
   "cell_type": "code",
   "execution_count": 2,
   "metadata": {},
   "outputs": [
    {
     "data": {
      "text/html": [
       "<div>\n",
       "<style scoped>\n",
       "    .dataframe tbody tr th:only-of-type {\n",
       "        vertical-align: middle;\n",
       "    }\n",
       "\n",
       "    .dataframe tbody tr th {\n",
       "        vertical-align: top;\n",
       "    }\n",
       "\n",
       "    .dataframe thead th {\n",
       "        text-align: right;\n",
       "    }\n",
       "</style>\n",
       "<table border=\"1\" class=\"dataframe\">\n",
       "  <thead>\n",
       "    <tr style=\"text-align: right;\">\n",
       "      <th></th>\n",
       "      <th>NSFID</th>\n",
       "      <th>Member</th>\n",
       "      <th>Contact ID</th>\n",
       "      <th>Person ID</th>\n",
       "      <th>GeoType</th>\n",
       "      <th>Address</th>\n",
       "      <th>City</th>\n",
       "      <th>State</th>\n",
       "      <th>Zip Code</th>\n",
       "    </tr>\n",
       "  </thead>\n",
       "  <tbody>\n",
       "    <tr>\n",
       "      <th>0</th>\n",
       "      <td>10000</td>\n",
       "      <td>Max</td>\n",
       "      <td>60733</td>\n",
       "      <td>68705</td>\n",
       "      <td>Street</td>\n",
       "      <td>40355 E 165TH ST</td>\n",
       "      <td>LAKE LOS ANGELES</td>\n",
       "      <td>CA</td>\n",
       "      <td>NaN</td>\n",
       "    </tr>\n",
       "    <tr>\n",
       "      <th>1</th>\n",
       "      <td>10001</td>\n",
       "      <td>Max</td>\n",
       "      <td>73949</td>\n",
       "      <td>83225</td>\n",
       "      <td>Street</td>\n",
       "      <td>40347 E 165TH ST</td>\n",
       "      <td>LAKE LOS ANGELES</td>\n",
       "      <td>CA</td>\n",
       "      <td>NaN</td>\n",
       "    </tr>\n",
       "    <tr>\n",
       "      <th>2</th>\n",
       "      <td>10002</td>\n",
       "      <td>Max</td>\n",
       "      <td>222671</td>\n",
       "      <td>244682</td>\n",
       "      <td>Street</td>\n",
       "      <td>40302 E 165TH ST</td>\n",
       "      <td>LAKE LOS ANGELES</td>\n",
       "      <td>CA</td>\n",
       "      <td>93535.0</td>\n",
       "    </tr>\n",
       "    <tr>\n",
       "      <th>3</th>\n",
       "      <td>10003</td>\n",
       "      <td>Max</td>\n",
       "      <td>233081</td>\n",
       "      <td>256005</td>\n",
       "      <td>Street</td>\n",
       "      <td>40308 E 166TH ST</td>\n",
       "      <td>LAKE LOS ANGELES</td>\n",
       "      <td>CA</td>\n",
       "      <td>NaN</td>\n",
       "    </tr>\n",
       "    <tr>\n",
       "      <th>4</th>\n",
       "      <td>10004</td>\n",
       "      <td>Max</td>\n",
       "      <td>233081</td>\n",
       "      <td>256007</td>\n",
       "      <td>Street</td>\n",
       "      <td>40381 E 166TH ST</td>\n",
       "      <td>LAKE LOS ANGELES</td>\n",
       "      <td>CA</td>\n",
       "      <td>NaN</td>\n",
       "    </tr>\n",
       "  </tbody>\n",
       "</table>\n",
       "</div>"
      ],
      "text/plain": [
       "   NSFID Member  Contact ID  Person ID GeoType           Address  \\\n",
       "0  10000    Max       60733      68705  Street  40355 E 165TH ST   \n",
       "1  10001    Max       73949      83225  Street  40347 E 165TH ST   \n",
       "2  10002    Max      222671     244682  Street  40302 E 165TH ST   \n",
       "3  10003    Max      233081     256005  Street  40308 E 166TH ST   \n",
       "4  10004    Max      233081     256007  Street  40381 E 166TH ST   \n",
       "\n",
       "               City State  Zip Code  \n",
       "0  LAKE LOS ANGELES    CA       NaN  \n",
       "1  LAKE LOS ANGELES    CA       NaN  \n",
       "2  LAKE LOS ANGELES    CA   93535.0  \n",
       "3  LAKE LOS ANGELES    CA       NaN  \n",
       "4  LAKE LOS ANGELES    CA       NaN  "
      ]
     },
     "execution_count": 2,
     "metadata": {},
     "output_type": "execute_result"
    }
   ],
   "source": [
    "# load the excel file\n",
    "db = pd.read_excel(\"Max_Geocode_10K.xlsx\")\n",
    "\n",
    "# show the first five contacts\n",
    "db.head()"
   ]
  },
  {
   "cell_type": "code",
   "execution_count": 3,
   "metadata": {},
   "outputs": [
    {
     "data": {
      "text/html": [
       "<div>\n",
       "<style scoped>\n",
       "    .dataframe tbody tr th:only-of-type {\n",
       "        vertical-align: middle;\n",
       "    }\n",
       "\n",
       "    .dataframe tbody tr th {\n",
       "        vertical-align: top;\n",
       "    }\n",
       "\n",
       "    .dataframe thead th {\n",
       "        text-align: right;\n",
       "    }\n",
       "</style>\n",
       "<table border=\"1\" class=\"dataframe\">\n",
       "  <thead>\n",
       "    <tr style=\"text-align: right;\">\n",
       "      <th></th>\n",
       "      <th>Address</th>\n",
       "      <th>City</th>\n",
       "    </tr>\n",
       "  </thead>\n",
       "  <tbody>\n",
       "    <tr>\n",
       "      <th>0</th>\n",
       "      <td>40355 E 165TH ST</td>\n",
       "      <td>LAKE LOS ANGELES</td>\n",
       "    </tr>\n",
       "    <tr>\n",
       "      <th>1</th>\n",
       "      <td>40347 E 165TH ST</td>\n",
       "      <td>LAKE LOS ANGELES</td>\n",
       "    </tr>\n",
       "    <tr>\n",
       "      <th>2</th>\n",
       "      <td>40302 E 165TH ST</td>\n",
       "      <td>LAKE LOS ANGELES</td>\n",
       "    </tr>\n",
       "    <tr>\n",
       "      <th>3</th>\n",
       "      <td>40308 E 166TH ST</td>\n",
       "      <td>LAKE LOS ANGELES</td>\n",
       "    </tr>\n",
       "    <tr>\n",
       "      <th>4</th>\n",
       "      <td>40381 E 166TH ST</td>\n",
       "      <td>LAKE LOS ANGELES</td>\n",
       "    </tr>\n",
       "  </tbody>\n",
       "</table>\n",
       "</div>"
      ],
      "text/plain": [
       "            Address              City\n",
       "0  40355 E 165TH ST  LAKE LOS ANGELES\n",
       "1  40347 E 165TH ST  LAKE LOS ANGELES\n",
       "2  40302 E 165TH ST  LAKE LOS ANGELES\n",
       "3  40308 E 166TH ST  LAKE LOS ANGELES\n",
       "4  40381 E 166TH ST  LAKE LOS ANGELES"
      ]
     },
     "execution_count": 3,
     "metadata": {},
     "output_type": "execute_result"
    }
   ],
   "source": [
    "# leave only Address and City\n",
    "db_sample = db[['Address','City']]\n",
    "\n",
    "db_sample.head()"
   ]
  },
  {
   "cell_type": "code",
   "execution_count": 4,
   "metadata": {},
   "outputs": [
    {
     "data": {
      "text/plain": [
       "['40355 E 165TH ST',\n",
       " '40347 E 165TH ST',\n",
       " '40302 E 165TH ST',\n",
       " '40308 E 166TH ST',\n",
       " '40381 E 166TH ST']"
      ]
     },
     "execution_count": 4,
     "metadata": {},
     "output_type": "execute_result"
    }
   ],
   "source": [
    "# let's concatinate address and city into one string\n",
    "\n",
    "# store address strings into a list of strings (array of strings)\n",
    "address_column = db_sample['Address'].to_list()\n",
    "\n",
    "# show the first five contacts\n",
    "address_column[:5]"
   ]
  },
  {
   "cell_type": "code",
   "execution_count": 5,
   "metadata": {},
   "outputs": [
    {
     "data": {
      "text/plain": [
       "['LAKE LOS ANGELES',\n",
       " 'LAKE LOS ANGELES',\n",
       " 'LAKE LOS ANGELES',\n",
       " 'LAKE LOS ANGELES',\n",
       " 'LAKE LOS ANGELES']"
      ]
     },
     "execution_count": 5,
     "metadata": {},
     "output_type": "execute_result"
    }
   ],
   "source": [
    "# store city strings into a list of strings (array of strings)\n",
    "city_column = db_sample['City'].to_list()\n",
    "city_column[:5]"
   ]
  },
  {
   "cell_type": "code",
   "execution_count": 6,
   "metadata": {},
   "outputs": [
    {
     "data": {
      "text/plain": [
       "['40355 E 165TH ST, LAKE LOS ANGELES, CALIFORNIA',\n",
       " '40347 E 165TH ST, LAKE LOS ANGELES, CALIFORNIA',\n",
       " '40302 E 165TH ST, LAKE LOS ANGELES, CALIFORNIA',\n",
       " '40308 E 166TH ST, LAKE LOS ANGELES, CALIFORNIA',\n",
       " '40381 E 166TH ST, LAKE LOS ANGELES, CALIFORNIA']"
      ]
     },
     "execution_count": 6,
     "metadata": {},
     "output_type": "execute_result"
    }
   ],
   "source": [
    "# concatinate \"address\" and \"city\" into one string\n",
    "\n",
    "# initialize an empty list(array) of addresses\n",
    "address = []\n",
    "\n",
    "# make a loop to go through all addresses and citis and concatinate them together with the State (California)\n",
    "# 'len(address_column)'' is equal to 10,000\n",
    "for i in range(len(address_column)):\n",
    "    # each run create and add a new string to the 'address' list\n",
    "    address.append(address_column[i]+ \", \" + city_column[i] + \", CALIFORNIA\")\n",
    "    \n",
    "# show the first five contacts again\n",
    "address[:5]"
   ]
  },
  {
   "cell_type": "code",
   "execution_count": 7,
   "metadata": {},
   "outputs": [
    {
     "data": {
      "text/plain": [
       "10000"
      ]
     },
     "execution_count": 7,
     "metadata": {},
     "output_type": "execute_result"
    }
   ],
   "source": [
    "# let's check the length of the address list. must contain 10,000 strings\n",
    "len(address)"
   ]
  },
  {
   "cell_type": "code",
   "execution_count": 9,
   "metadata": {},
   "outputs": [
    {
     "data": {
      "text/plain": [
       "(34.1489719, -118.451357)"
      ]
     },
     "execution_count": 9,
     "metadata": {},
     "output_type": "execute_result"
    }
   ],
   "source": [
    "# import package 'googlemaps'. it must be installed with the following command: \"conda install googlemaps\"\n",
    "import googlemaps\n",
    "\n",
    "# Google must know who is using the API. it also requires to add a payment method, \n",
    "                 #  however, it won't charge anything, unless we exceed the monthly limit\n",
    "    \n",
    "# Google provides $200 free credit per month for their API's.\n",
    "# it charges $5 for an additional 1000 searches. \n",
    "# we can check how much we of a free credit we spent in \"Reports\" under \"Billing\" on Google Cloud Platform\n",
    "\n",
    "gmaps = googlemaps.Client(key='YOU API KEY IS HERE')\n",
    "\n",
    "# show an example with a simple search, such as Sherman Oaks, California\n",
    "geocode_result = gmaps.geocode('Sherman Oaks, California')\n",
    "\n",
    "# print Latitude and Longitude.\n",
    "# \"geocode_result\" (as I called it) contains a lot of information in a very complicated format (think of a tree),\n",
    "                # so in order to get Lat/Long, we need to eliminate the rest of the information \n",
    "                # by specifying the part that we need (lat/long): \"geocode_result[0]['geometry']['location']['lat']\"\n",
    "        \n",
    "geocode_result[0]['geometry']['location']['lat'], geocode_result[0]['geometry']['location']['lng']"
   ]
  },
  {
   "cell_type": "code",
   "execution_count": 10,
   "metadata": {},
   "outputs": [
    {
     "data": {
      "text/plain": [
       "[{'address_components': [{'long_name': 'Sherman Oaks',\n",
       "    'short_name': 'Sherman Oaks',\n",
       "    'types': ['neighborhood', 'political']},\n",
       "   {'long_name': 'Los Angeles',\n",
       "    'short_name': 'Los Angeles',\n",
       "    'types': ['locality', 'political']},\n",
       "   {'long_name': 'Los Angeles County',\n",
       "    'short_name': 'Los Angeles County',\n",
       "    'types': ['administrative_area_level_2', 'political']},\n",
       "   {'long_name': 'California',\n",
       "    'short_name': 'CA',\n",
       "    'types': ['administrative_area_level_1', 'political']},\n",
       "   {'long_name': 'United States',\n",
       "    'short_name': 'US',\n",
       "    'types': ['country', 'political']}],\n",
       "  'formatted_address': 'Sherman Oaks, Los Angeles, CA, USA',\n",
       "  'geometry': {'bounds': {'northeast': {'lat': 34.17945, 'lng': -118.4068437},\n",
       "    'southwest': {'lat': 34.1261883, 'lng': -118.4877299}},\n",
       "   'location': {'lat': 34.1489719, 'lng': -118.451357},\n",
       "   'location_type': 'APPROXIMATE',\n",
       "   'viewport': {'northeast': {'lat': 34.17945, 'lng': -118.4068437},\n",
       "    'southwest': {'lat': 34.1261883, 'lng': -118.4877299}}},\n",
       "  'place_id': 'ChIJ87ycp9uXwoARFv9xgD9OmwM',\n",
       "  'types': ['neighborhood', 'political']}]"
      ]
     },
     "execution_count": 10,
     "metadata": {},
     "output_type": "execute_result"
    }
   ],
   "source": [
    "# that is how complicated the information looks like. it might contain some useful data as well\n",
    "geocode_result"
   ]
  },
  {
   "cell_type": "code",
   "execution_count": 11,
   "metadata": {
    "scrolled": true
   },
   "outputs": [
    {
     "name": "stdout",
     "output_type": "stream",
     "text": [
      "Execution time: 2 seconds\n"
     ]
    }
   ],
   "source": [
    "# this will count the amount of time spent on searching. just for statistics\n",
    "import time\n",
    "start_time = time.time()\n",
    "\n",
    "\n",
    "\n",
    "# initialize an empty list of latitudes and longitudes\n",
    "lat_list = []\n",
    "long_list = []\n",
    "\n",
    "# this loop runs the first 5 addresses (for example) \n",
    "for i in range(len(address[:5])):\n",
    "    \n",
    "    # get the infromation from google maps\n",
    "    # \"gmaps\" already contains your API (from the cell above)\n",
    "    result = gmaps.geocode(address[i])\n",
    "    \n",
    "    # add latitude and longitude to the corresponding list\n",
    "    lat_list.append(result[0]['geometry']['location']['lat'])\n",
    "    long_list.append(result[0]['geometry']['location']['lng'])\n",
    "\n",
    "\n",
    "    \n",
    "# print the execution time (just for statistics)    \n",
    "exec_time = (time.time() - start_time)\n",
    "print(\"Execution time:\", round(exec_time),\"seconds\")\n"
   ]
  },
  {
   "cell_type": "code",
   "execution_count": 12,
   "metadata": {},
   "outputs": [
    {
     "data": {
      "text/plain": [
       "([34.6152076, 34.6151743, 34.6143006, 34.6147121, 34.6155768],\n",
       " [-117.8374648, -117.8374648, -117.8366801, -117.8326848, -117.8329413])"
      ]
     },
     "execution_count": 12,
     "metadata": {},
     "output_type": "execute_result"
    }
   ],
   "source": [
    "# show the first 20 results of both Lat and Long\n",
    "lat_list[:20], long_list[:20]"
   ]
  },
  {
   "cell_type": "code",
   "execution_count": 15,
   "metadata": {
    "collapsed": true
   },
   "outputs": [
    {
     "name": "stderr",
     "output_type": "stream",
     "text": [
      "C:\\Users\\maksi\\anaconda3\\lib\\site-packages\\ipykernel_launcher.py:7: SettingWithCopyWarning: \n",
      "A value is trying to be set on a copy of a slice from a DataFrame.\n",
      "Try using .loc[row_indexer,col_indexer] = value instead\n",
      "\n",
      "See the caveats in the documentation: https://pandas.pydata.org/pandas-docs/stable/user_guide/indexing.html#returning-a-view-versus-a-copy\n",
      "  import sys\n",
      "C:\\Users\\maksi\\anaconda3\\lib\\site-packages\\ipykernel_launcher.py:8: SettingWithCopyWarning: \n",
      "A value is trying to be set on a copy of a slice from a DataFrame.\n",
      "Try using .loc[row_indexer,col_indexer] = value instead\n",
      "\n",
      "See the caveats in the documentation: https://pandas.pydata.org/pandas-docs/stable/user_guide/indexing.html#returning-a-view-versus-a-copy\n",
      "  \n"
     ]
    }
   ],
   "source": [
    "# let's save it to the file!\n",
    "\n",
    "# create a new dataframe\n",
    "db_temp = db[:5]\n",
    "\n",
    "# create a new column 'lat' and copy the list of latitudes to the dataframe. it correspond the addresses/id, etc\n",
    "db_temp['lat'] = lat_list\n",
    "db_temp['long'] = long_list\n",
    "\n",
    "# save as an excel file\n",
    "db_temp.to_excel('geocoded_first5.xlsx')"
   ]
  },
  {
   "cell_type": "code",
   "execution_count": 16,
   "metadata": {},
   "outputs": [
    {
     "data": {
      "text/html": [
       "<div>\n",
       "<style scoped>\n",
       "    .dataframe tbody tr th:only-of-type {\n",
       "        vertical-align: middle;\n",
       "    }\n",
       "\n",
       "    .dataframe tbody tr th {\n",
       "        vertical-align: top;\n",
       "    }\n",
       "\n",
       "    .dataframe thead th {\n",
       "        text-align: right;\n",
       "    }\n",
       "</style>\n",
       "<table border=\"1\" class=\"dataframe\">\n",
       "  <thead>\n",
       "    <tr style=\"text-align: right;\">\n",
       "      <th></th>\n",
       "      <th>NSFID</th>\n",
       "      <th>Member</th>\n",
       "      <th>Contact ID</th>\n",
       "      <th>Person ID</th>\n",
       "      <th>GeoType</th>\n",
       "      <th>Address</th>\n",
       "      <th>City</th>\n",
       "      <th>State</th>\n",
       "      <th>Zip Code</th>\n",
       "      <th>lat</th>\n",
       "      <th>long</th>\n",
       "    </tr>\n",
       "  </thead>\n",
       "  <tbody>\n",
       "    <tr>\n",
       "      <th>0</th>\n",
       "      <td>10000</td>\n",
       "      <td>Max</td>\n",
       "      <td>60733</td>\n",
       "      <td>68705</td>\n",
       "      <td>Street</td>\n",
       "      <td>40355 E 165TH ST</td>\n",
       "      <td>LAKE LOS ANGELES</td>\n",
       "      <td>CA</td>\n",
       "      <td>NaN</td>\n",
       "      <td>34.615208</td>\n",
       "      <td>-117.837465</td>\n",
       "    </tr>\n",
       "    <tr>\n",
       "      <th>1</th>\n",
       "      <td>10001</td>\n",
       "      <td>Max</td>\n",
       "      <td>73949</td>\n",
       "      <td>83225</td>\n",
       "      <td>Street</td>\n",
       "      <td>40347 E 165TH ST</td>\n",
       "      <td>LAKE LOS ANGELES</td>\n",
       "      <td>CA</td>\n",
       "      <td>NaN</td>\n",
       "      <td>34.615174</td>\n",
       "      <td>-117.837465</td>\n",
       "    </tr>\n",
       "    <tr>\n",
       "      <th>2</th>\n",
       "      <td>10002</td>\n",
       "      <td>Max</td>\n",
       "      <td>222671</td>\n",
       "      <td>244682</td>\n",
       "      <td>Street</td>\n",
       "      <td>40302 E 165TH ST</td>\n",
       "      <td>LAKE LOS ANGELES</td>\n",
       "      <td>CA</td>\n",
       "      <td>93535.0</td>\n",
       "      <td>34.614301</td>\n",
       "      <td>-117.836680</td>\n",
       "    </tr>\n",
       "    <tr>\n",
       "      <th>3</th>\n",
       "      <td>10003</td>\n",
       "      <td>Max</td>\n",
       "      <td>233081</td>\n",
       "      <td>256005</td>\n",
       "      <td>Street</td>\n",
       "      <td>40308 E 166TH ST</td>\n",
       "      <td>LAKE LOS ANGELES</td>\n",
       "      <td>CA</td>\n",
       "      <td>NaN</td>\n",
       "      <td>34.614712</td>\n",
       "      <td>-117.832685</td>\n",
       "    </tr>\n",
       "    <tr>\n",
       "      <th>4</th>\n",
       "      <td>10004</td>\n",
       "      <td>Max</td>\n",
       "      <td>233081</td>\n",
       "      <td>256007</td>\n",
       "      <td>Street</td>\n",
       "      <td>40381 E 166TH ST</td>\n",
       "      <td>LAKE LOS ANGELES</td>\n",
       "      <td>CA</td>\n",
       "      <td>NaN</td>\n",
       "      <td>34.615577</td>\n",
       "      <td>-117.832941</td>\n",
       "    </tr>\n",
       "  </tbody>\n",
       "</table>\n",
       "</div>"
      ],
      "text/plain": [
       "   NSFID Member  Contact ID  Person ID GeoType           Address  \\\n",
       "0  10000    Max       60733      68705  Street  40355 E 165TH ST   \n",
       "1  10001    Max       73949      83225  Street  40347 E 165TH ST   \n",
       "2  10002    Max      222671     244682  Street  40302 E 165TH ST   \n",
       "3  10003    Max      233081     256005  Street  40308 E 166TH ST   \n",
       "4  10004    Max      233081     256007  Street  40381 E 166TH ST   \n",
       "\n",
       "               City State  Zip Code        lat        long  \n",
       "0  LAKE LOS ANGELES    CA       NaN  34.615208 -117.837465  \n",
       "1  LAKE LOS ANGELES    CA       NaN  34.615174 -117.837465  \n",
       "2  LAKE LOS ANGELES    CA   93535.0  34.614301 -117.836680  \n",
       "3  LAKE LOS ANGELES    CA       NaN  34.614712 -117.832685  \n",
       "4  LAKE LOS ANGELES    CA       NaN  34.615577 -117.832941  "
      ]
     },
     "execution_count": 16,
     "metadata": {},
     "output_type": "execute_result"
    }
   ],
   "source": [
    "# show show the dataframe now looks like\n",
    "db_temp.head()"
   ]
  },
  {
   "cell_type": "code",
   "execution_count": null,
   "metadata": {},
   "outputs": [],
   "source": []
  }
 ],
 "metadata": {
  "kernelspec": {
   "display_name": "Python 3",
   "language": "python",
   "name": "python3"
  },
  "language_info": {
   "codemirror_mode": {
    "name": "ipython",
    "version": 3
   },
   "file_extension": ".py",
   "mimetype": "text/x-python",
   "name": "python",
   "nbconvert_exporter": "python",
   "pygments_lexer": "ipython3",
   "version": "3.7.6"
  }
 },
 "nbformat": 4,
 "nbformat_minor": 4
}
